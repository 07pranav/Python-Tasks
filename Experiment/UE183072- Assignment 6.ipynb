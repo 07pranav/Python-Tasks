{
 "cells": [
  {
   "cell_type": "code",
   "execution_count": 1,
   "metadata": {},
   "outputs": [
    {
     "name": "stdout",
     "output_type": "stream",
     "text": [
      "Start\n",
      "done\n",
      "1.21.0\n"
     ]
    }
   ],
   "source": [
    "print('Start')\n",
    "import numpy as np\n",
    "import pandas as pd\n",
    "print('done')\n",
    "print(np.__version__)"
   ]
  },
  {
   "cell_type": "code",
   "execution_count": 2,
   "metadata": {},
   "outputs": [
    {
     "name": "stdout",
     "output_type": "stream",
     "text": [
      "Enter the number of elements6\n",
      "Enter the elements\n",
      "2 3 2 2 2 1\n"
     ]
    },
    {
     "data": {
      "text/plain": [
       "array([[0., 1., 0.],\n",
       "       [0., 0., 1.],\n",
       "       [0., 1., 0.],\n",
       "       [0., 1., 0.],\n",
       "       [0., 1., 0.],\n",
       "       [1., 0., 0.]])"
      ]
     },
     "execution_count": 2,
     "metadata": {},
     "output_type": "execute_result"
    }
   ],
   "source": [
    "# Create one hot encoding of an array.\n",
    "x=int(input(\"Enter the number of elements\"))\n",
    "print(\"Enter the elements\")\n",
    "arr=np.array(list(map(int,input().split())))\n",
    "shape=(x,arr.max())\n",
    "encoding=np.zeros(shape)\n",
    "\n",
    "for i in range(x):\n",
    "    encoding[i,arr[i]-1]=1\n",
    "    \n",
    "encoding"
   ]
  },
  {
   "cell_type": "code",
   "execution_count": 3,
   "metadata": {},
   "outputs": [
    {
     "name": "stdout",
     "output_type": "stream",
     "text": [
      "Original [False False False  True False False False  True]\n",
      "[1. 2. 3. 5. 6. 7.]\n",
      "After [False False False False False False]\n"
     ]
    }
   ],
   "source": [
    "# Drop all missing values from an array Input\n",
    "a=np.array([1,2,3,np.nan,5,6,7,np.nan])\n",
    "print('Original',np.isnan(a))\n",
    "a=a[~np.isnan(a)]\n",
    "print(a)\n",
    "# Missing values are reffered as True\n",
    "print('After',np.isnan(a))"
   ]
  },
  {
   "cell_type": "code",
   "execution_count": 4,
   "metadata": {},
   "outputs": [
    {
     "name": "stdout",
     "output_type": "stream",
     "text": [
      "Enter the element of array:\n",
      "1 3 7 1 2 6 0 1\n",
      "local maxmima: [[2 5]]\n",
      "local minima: [[3 6]]\n"
     ]
    }
   ],
   "source": [
    "# Find Local maxima from an array\n",
    "from scipy.signal import argrelextrema\n",
    "print(\"Enter the element of array:\")\n",
    "a2=np.array(list(map(int,input().split())))\n",
    "\n",
    "loc_max=np.array(argrelextrema(a2, np.greater))\n",
    "loc_min=np.array(argrelextrema(a2, np.less))\n",
    "\n",
    "print(\"local maxmima:\",loc_max)\n",
    "print(\"local minima:\",loc_min)"
   ]
  },
  {
   "cell_type": "code",
   "execution_count": 5,
   "metadata": {},
   "outputs": [
    {
     "name": "stdout",
     "output_type": "stream",
     "text": [
      "Enter the window size(w):4\n",
      "Enter the stride value(s):2\n"
     ]
    },
    {
     "data": {
      "text/plain": [
       "array([[ 0,  1,  2,  3],\n",
       "       [ 2,  3,  4,  5],\n",
       "       [ 4,  5,  6,  7],\n",
       "       [ 6,  7,  8,  9],\n",
       "       [ 8,  9, 10, 11],\n",
       "       [10, 11, 12, 13]])"
      ]
     },
     "execution_count": 5,
     "metadata": {},
     "output_type": "execute_result"
    }
   ],
   "source": [
    "# From the given 1d array arr, generate a 2d matrix using strides,\n",
    "import numpy as np\n",
    "from numpy.lib.stride_tricks import sliding_window_view\n",
    "arr=np.array([0,1,2,3,4,5,6,7,8,9,10,11,12,13,14])\n",
    "w=int(input(\"Enter the window size(w):\"))\n",
    "s=int(input(\"Enter the stride value(s):\"))\n",
    "res=sliding_window_view(arr, window_shape = w)[::s]\n",
    "res"
   ]
  },
  {
   "cell_type": "code",
   "execution_count": null,
   "metadata": {},
   "outputs": [],
   "source": [
    "pip install numpy"
   ]
  },
  {
   "cell_type": "code",
   "execution_count": null,
   "metadata": {},
   "outputs": [],
   "source": []
  }
 ],
 "metadata": {
  "kernelspec": {
   "display_name": "Python 3",
   "language": "python",
   "name": "python3"
  },
  "language_info": {
   "codemirror_mode": {
    "name": "ipython",
    "version": 3
   },
   "file_extension": ".py",
   "mimetype": "text/x-python",
   "name": "python",
   "nbconvert_exporter": "python",
   "pygments_lexer": "ipython3",
   "version": "3.7.6"
  }
 },
 "nbformat": 4,
 "nbformat_minor": 4
}
