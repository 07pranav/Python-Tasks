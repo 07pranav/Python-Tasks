{
 "cells": [
  {
   "cell_type": "markdown",
   "metadata": {},
   "source": [
    "<h1>Assignment 1"
   ]
  },
  {
   "cell_type": "code",
   "execution_count": 1,
   "metadata": {},
   "outputs": [
    {
     "data": {
      "text/plain": [
       "25"
      ]
     },
     "execution_count": 1,
     "metadata": {},
     "output_type": "execute_result"
    }
   ],
   "source": [
    "10+15"
   ]
  },
  {
   "cell_type": "code",
   "execution_count": 2,
   "metadata": {},
   "outputs": [
    {
     "name": "stdout",
     "output_type": "stream",
     "text": [
      "Hello World\n"
     ]
    }
   ],
   "source": [
    "print(\"Hello World\")"
   ]
  },
  {
   "cell_type": "code",
   "execution_count": 3,
   "metadata": {},
   "outputs": [
    {
     "data": {
      "text/plain": [
       "11"
      ]
     },
     "execution_count": 3,
     "metadata": {},
     "output_type": "execute_result"
    }
   ],
   "source": [
    "45-34"
   ]
  },
  {
   "cell_type": "code",
   "execution_count": 4,
   "metadata": {},
   "outputs": [
    {
     "data": {
      "text/plain": [
       "16"
      ]
     },
     "execution_count": 4,
     "metadata": {},
     "output_type": "execute_result"
    }
   ],
   "source": [
    "8*2"
   ]
  },
  {
   "cell_type": "code",
   "execution_count": 5,
   "metadata": {},
   "outputs": [
    {
     "name": "stdout",
     "output_type": "stream",
     "text": [
      "Rahul's age is 45\n"
     ]
    }
   ],
   "source": [
    "print(\"Rahul's age is\", 45)"
   ]
  },
  {
   "cell_type": "code",
   "execution_count": 6,
   "metadata": {},
   "outputs": [
    {
     "name": "stdout",
     "output_type": "stream",
     "text": [
      "I have 10 mangoes and 12 bananas\n"
     ]
    }
   ],
   "source": [
    "print(\"I have\", 10, \"mangoes and\", 12, \"bananas\")"
   ]
  },
  {
   "cell_type": "code",
   "execution_count": 7,
   "metadata": {},
   "outputs": [
    {
     "name": "stdout",
     "output_type": "stream",
     "text": [
      "Employee Number: 1233\n",
      "Employee Salary and Name: 16745.5 Jerry Squaris\n",
      "Updated Employee Salary: 23450.34\n"
     ]
    }
   ],
   "source": [
    "emp_number = 1233\n",
    "print(\"Employee Number:\", emp_number)\n",
    "emp_salary = 16745.50\n",
    "emp_name = \"Jerry Squaris\"\n",
    "print(\"Employee Salary and Name:\", emp_salary, emp_name)\n",
    "emp_salary = 23450.34\n",
    "print(\"Updated Employee Salary:\", emp_salary)"
   ]
  },
  {
   "cell_type": "code",
   "execution_count": 8,
   "metadata": {},
   "outputs": [
    {
     "name": "stdout",
     "output_type": "stream",
     "text": [
      "<class 'int'>\n",
      "<class 'str'>\n",
      "<class 'float'>\n",
      "<class 'complex'>\n",
      "101 John 675.45\n",
      "5.3\n",
      "3.9\n",
      "<class 'bool'>\n"
     ]
    }
   ],
   "source": [
    "customer_id = 101\n",
    "print(type(customer_id))\n",
    "customer_name = \"John\"\n",
    "print(type(customer_name))\n",
    "bill_amount = 675.45\n",
    "print(type(bill_amount ))\n",
    "x = 5.3 + 0.9j\n",
    "print(type(x))\n",
    "print(customer_id, customer_name, bill_amount)\n",
    "print(x.real)\n",
    "print(x.imag + 3)\n",
    "Flag = True\n",
    "print(type(Flag))\n",
    "y = \"False\""
   ]
  },
  {
   "cell_type": "code",
   "execution_count": 9,
   "metadata": {},
   "outputs": [
    {
     "name": "stdout",
     "output_type": "stream",
     "text": [
      "Bill Id.=  101\n",
      "Customer Id.=  1001\n",
      "Customer Name=  Rahul\n",
      "F_minor=  False\n",
      "Bill Amount=  2000.5\n"
     ]
    }
   ],
   "source": [
    "bill_id = 101\n",
    "customer_id = 1001\n",
    "customer_name = \"Rahul\"\n",
    "f_minor = False\n",
    "bill_amount = 2000.50\n",
    "print(\"Bill Id.= \",bill_id)\n",
    "print(\"Customer Id.= \",customer_id)\n",
    "print(\"Customer Name= \",customer_name)\n",
    "print(\"F_minor= \",f_minor)\n",
    "print(\"Bill Amount= \",(bill_amount))"
   ]
  },
  {
   "cell_type": "code",
   "execution_count": 10,
   "metadata": {},
   "outputs": [
    {
     "name": "stdout",
     "output_type": "stream",
     "text": [
      "Type 1st number: 4\n",
      "Type 2nd number: 5\n",
      "Sum of numbers is:  19\n"
     ]
    }
   ],
   "source": [
    "x = input(\"Type 1st number: \")\n",
    "y = input(\"Type 2nd number: \")\n",
    "\n",
    "x = int(x) + 4\n",
    "y = int(y) + 6\n",
    "\n",
    "sum = x + y\n",
    "print(\"Sum of numbers is: \", sum)"
   ]
  },
  {
   "cell_type": "code",
   "execution_count": 11,
   "metadata": {},
   "outputs": [
    {
     "name": "stdout",
     "output_type": "stream",
     "text": [
      "Before swapping 4 5\n",
      "After swapping 5 4\n"
     ]
    }
   ],
   "source": [
    "a=4\n",
    "b=5\n",
    "print(\"Before swapping\",a,b)\n",
    "a,b = b,a\n",
    "print(\"After swapping\",a,b)"
   ]
  },
  {
   "cell_type": "code",
   "execution_count": 12,
   "metadata": {},
   "outputs": [
    {
     "name": "stdout",
     "output_type": "stream",
     "text": [
      "Enter marks of 1st subject:10\n",
      "Enter marks of 2nd subject:20\n",
      "Enter marks of 3rd subject:30\n",
      "Average marks:  20.0\n",
      "New Average marks:  23.333333333333332\n"
     ]
    }
   ],
   "source": [
    "x=int(input(\"Enter marks of 1st subject:\"))\n",
    "y=int(input(\"Enter marks of 2nd subject:\"))\n",
    "z=int(input(\"Enter marks of 3rd subject:\"))\n",
    "avg = (x+y+z)/3\n",
    "print(\"Average marks: \",avg)\n",
    "x=x+10\n",
    "print(\"New Average marks: \",(x+y+z)/3)"
   ]
  },
  {
   "cell_type": "code",
   "execution_count": 13,
   "metadata": {},
   "outputs": [
    {
     "name": "stdout",
     "output_type": "stream",
     "text": [
      "area of circle is 153.86\n",
      "Perimeter of circle is 43.96\n"
     ]
    }
   ],
   "source": [
    "radius = 7\n",
    "area = 3.14*radius*radius\n",
    "perimeter = 2*3.14*radius\n",
    "print(\"area of circle is\", area)\n",
    "print(\"Perimeter of circle is\", perimeter)"
   ]
  },
  {
   "cell_type": "code",
   "execution_count": 14,
   "metadata": {},
   "outputs": [
    {
     "name": "stdout",
     "output_type": "stream",
     "text": [
      "Monthly pay of employee is: 64000\n"
     ]
    }
   ],
   "source": [
    "no_of_hours=40\n",
    "pay_rate=400\n",
    "no_of_weeks=4\n",
    "monthly_pay=no_of_hours*pay_rate*no_of_weeks\n",
    "print(\"Monthly pay of employee is:\", monthly_pay)"
   ]
  },
  {
   "cell_type": "code",
   "execution_count": 15,
   "metadata": {},
   "outputs": [
    {
     "name": "stdout",
     "output_type": "stream",
     "text": [
      "50\n",
      "52\n",
      "54\n",
      "56\n",
      "58\n",
      "60\n",
      "62\n",
      "64\n",
      "66\n",
      "68\n",
      "70\n",
      "72\n",
      "74\n",
      "76\n",
      "78\n",
      "80\n"
     ]
    }
   ],
   "source": [
    "#To display even number between 50 and 80\n",
    "for x in range(50,81):\n",
    "    if x%2==0:\n",
    "        print(x)"
   ]
  },
  {
   "cell_type": "code",
   "execution_count": 16,
   "metadata": {},
   "outputs": [
    {
     "name": "stdout",
     "output_type": "stream",
     "text": [
      "Enter the number 5\n",
      "15\n"
     ]
    }
   ],
   "source": [
    "# Add natural numbers up to n where n is taken as an input from user. Print the sum.\n",
    "n = int(input(\"Enter the number \"))\n",
    "sum = 0\n",
    "for x in range(1,n+1):\n",
    "    sum = sum + x\n",
    "print(sum)"
   ]
  },
  {
   "cell_type": "code",
   "execution_count": 17,
   "metadata": {},
   "outputs": [
    {
     "name": "stdout",
     "output_type": "stream",
     "text": [
      "Enter the number 87\n",
      "87 is not a prime number\n"
     ]
    }
   ],
   "source": [
    "# check wheather a  number is prime or not\n",
    "num=int(input(\"Enter the number \"))\n",
    "check=True\n",
    "for i in range(2,num):\n",
    "    if num%i==0:\n",
    "        print(num,\"is not a prime number\")\n",
    "        check= False\n",
    "        break\n",
    "if(check==True):\n",
    "    print(num,\"is a prime number\")"
   ]
  },
  {
   "cell_type": "code",
   "execution_count": 18,
   "metadata": {},
   "outputs": [
    {
     "name": "stdout",
     "output_type": "stream",
     "text": [
      "Enter the number of terms7\n",
      "0\n",
      "1\n",
      "1\n",
      "2\n",
      "3\n",
      "5\n",
      "8\n"
     ]
    }
   ],
   "source": [
    "#Print Fibonacci series till nth term where n is taken as an input from user\n",
    "num=int(input(\"Enter the number of terms\"))\n",
    "x=0\n",
    "y=1\n",
    "print(x)\n",
    "print(y)\n",
    "for i in range(1,num-1):\n",
    "    z=x+y\n",
    "    print(z)\n",
    "    x=y\n",
    "    y=z"
   ]
  },
  {
   "cell_type": "code",
   "execution_count": null,
   "metadata": {},
   "outputs": [],
   "source": []
  }
 ],
 "metadata": {
  "kernelspec": {
   "display_name": "Python 3",
   "language": "python",
   "name": "python3"
  },
  "language_info": {
   "codemirror_mode": {
    "name": "ipython",
    "version": 3
   },
   "file_extension": ".py",
   "mimetype": "text/x-python",
   "name": "python",
   "nbconvert_exporter": "python",
   "pygments_lexer": "ipython3",
   "version": "3.7.6"
  }
 },
 "nbformat": 4,
 "nbformat_minor": 4
}
