{
 "cells": [
  {
   "cell_type": "markdown",
   "metadata": {},
   "source": [
    "<h1> Assignment 2"
   ]
  },
  {
   "cell_type": "code",
   "execution_count": 1,
   "metadata": {},
   "outputs": [
    {
     "data": {
      "text/plain": [
       "['ustJ', 'ehkgcinC', 'isth']"
      ]
     },
     "execution_count": 1,
     "metadata": {},
     "output_type": "execute_result"
    }
   ],
   "source": [
    "# Shuffle all the words\n",
    "# just for learning\n",
    "from random import shuffle\n",
    "\n",
    "def shuffle_word(word):\n",
    "        word = list(word)\n",
    "        shuffle(word)\n",
    "        return ''.join(word)\n",
    "\n",
    "L = ['Just', 'Checking', 'this']\n",
    "[shuffle_word(word) for word in L]"
   ]
  },
  {
   "cell_type": "code",
   "execution_count": 2,
   "metadata": {},
   "outputs": [
    {
     "name": "stdout",
     "output_type": "stream",
     "text": [
      "Enter the sentence: Which of these boxes are painted red, green or blue?  \n",
      "After: Whcih of these boxes are pentiad red, geren or blue? \n"
     ]
    }
   ],
   "source": [
    "# Shuffle words other than extreme ends..\n",
    "import random\n",
    "from random import shuffle\n",
    "line=input(\"Enter the sentence: \")\n",
    "extras=[\"/\",\"!\",\"?\",\",\",\";\",\".\"]\n",
    "result=\"\"\n",
    "for word in line.split():\n",
    "    \n",
    "    if(len(word)<=3):\n",
    "        \n",
    "        result=result+word+\" \"\n",
    "            \n",
    "    else:\n",
    "        \n",
    "        if(word[-1] in extras):\n",
    "            \n",
    "            w1=word[1:-2]\n",
    "            w1=random.sample(w1,len(w1))\n",
    "            w1.insert(0,word[0])\n",
    "            w1.append(word[-2:])\n",
    "            result=result+''.join(w1)+\" \"\n",
    "                \n",
    "        else:\n",
    "            w1=word[1:-1]\n",
    "            w1=random.sample(w1,len(w1))\n",
    "            w1.insert(0,word[0])\n",
    "            w1.append(word[-1])\n",
    "            result=result+''.join(w1)+\" \"\n",
    "                \n",
    "print(\"After: \"+result)"
   ]
  },
  {
   "cell_type": "code",
   "execution_count": null,
   "metadata": {},
   "outputs": [],
   "source": []
  }
 ],
 "metadata": {
  "kernelspec": {
   "display_name": "Python 3",
   "language": "python",
   "name": "python3"
  },
  "language_info": {
   "codemirror_mode": {
    "name": "ipython",
    "version": 3
   },
   "file_extension": ".py",
   "mimetype": "text/x-python",
   "name": "python",
   "nbconvert_exporter": "python",
   "pygments_lexer": "ipython3",
   "version": "3.7.6"
  }
 },
 "nbformat": 4,
 "nbformat_minor": 4
}
