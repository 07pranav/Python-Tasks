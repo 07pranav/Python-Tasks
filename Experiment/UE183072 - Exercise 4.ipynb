{
 "cells": [
  {
   "cell_type": "markdown",
   "metadata": {},
   "source": [
    "<h1>Exercise 4"
   ]
  },
  {
   "cell_type": "code",
   "execution_count": 1,
   "metadata": {},
   "outputs": [
    {
     "name": "stdout",
     "output_type": "stream",
     "text": [
      "Tom,19,80 John,20,90 Jony,17,91 Jony,17,93 Json,21,85\n",
      "----->\n",
      "[['John', '20', '90'], ['Jony', '17', '91'], ['Jony', '17', '93'], ['Json', '21', '85'], ['Tom', '19', '80']]\n"
     ]
    }
   ],
   "source": [
    "# 1. You are required to write a program to sort the (name, age, height) tuples by ascending order where name is string,\n",
    "# age and height are numbers. The tuples are input by console. The sort criteria is: 1: Sort based on name; 2: Then sort \n",
    "# based on age; 3: Then sort by score. The priority is that name > age > score.\n",
    "student = input()\n",
    "student_list = [case.split(',') for case in student.split(' ')] \n",
    "print('----->')\n",
    "print(sorted(student_list))"
   ]
  },
  {
   "cell_type": "code",
   "execution_count": 2,
   "metadata": {},
   "outputs": [
    {
     "name": "stdout",
     "output_type": "stream",
     "text": [
      "Enter sentence: I am doing this work and I am doing that work\n",
      "{'I': 2, 'am': 2, 'doing': 2, 'this': 1, 'work': 2, 'and': 1, 'that': 1}\n"
     ]
    }
   ],
   "source": [
    "# 2. Calculate Word Frequencies. Take a set of sentences in a string as an input. \n",
    "#Count each unique occurrence of a word and calculate frequency of occurrence and store in a dictionary.\n",
    "#Produce a frequency table.\n",
    "\n",
    "sentence = input('Enter sentence: ').split()\n",
    "count = {}\n",
    "for x in sentence:\n",
    "    if x not in count.keys():\n",
    "        count[x]=1\n",
    "    else:\n",
    "        count[x]=count[x]+1\n",
    "print(count)"
   ]
  },
  {
   "cell_type": "code",
   "execution_count": 3,
   "metadata": {},
   "outputs": [
    {
     "name": "stdout",
     "output_type": "stream",
     "text": [
      "Total number of students: 3\n",
      "Input name: Pranav\n",
      "Input Roll Number: UE183072\n",
      "Input name: Aryan\n",
      "Input Roll Number: UE183001\n",
      "Input name: Vicky\n",
      "Input Roll Number: UE183100\n",
      "---->>>Data input\n",
      "Input Roll Number: UE183072\n",
      "Input subject: CS\n",
      "Input marks: 70\n",
      "Input Roll Number: UE183001\n",
      "Input subject: CS\n",
      "Input marks: 60\n",
      "Input Roll Number: UE183100\n",
      "Input subject: CS\n",
      "Input marks: 50\n",
      "Input Roll Number: UE183072\n",
      "Input subject: RV\n",
      "Input marks: 70\n",
      "Input Roll Number: UE183001\n",
      "Input subject: RV\n",
      "Input marks: 60\n",
      "Input Roll Number: UE183100\n",
      "Input subject: RV\n",
      "Input marks: 50\n",
      "Input Roll Number: UE183072\n",
      "Input subject: LA\n",
      "Input marks: 70\n",
      "Input Roll Number: UE183101\n",
      "Input subject: LA\n",
      "Input marks: 60\n",
      "Input Roll Number: UE183100\n",
      "Input subject: LA\n",
      "Input marks: 50\n",
      "Input Roll Number: UE183072\n",
      "Input subject: PT\n",
      "Input marks: 70\n",
      "Input Roll Number: UE183101\n",
      "Input subject: PT\n",
      "Input marks: 60\n",
      "Input Roll Number: UE183100\n",
      "Input subject: PT\n",
      "Input marks: 50\n",
      "UE183072 280\n",
      "UE183001 120\n",
      "UE183100 200\n"
     ]
    }
   ],
   "source": [
    "# 3. Result Calculation. Create a dictionary and a list.\n",
    "# Find total marks of each students and display full name of student with total marks secured. \n",
    "#This is the basic relational database join algorithm between two tables\n",
    "\n",
    "n = int(input('Total number of students: '))\n",
    "Student = {}\n",
    "for _ in range(n):\n",
    "    Student[input('Input Roll Number: ')] = input('Input name: ')\n",
    "Marks = []\n",
    "print('---->>>Data input')\n",
    "for _ in range(12):\n",
    "    rollNumber = input('Input Roll Number: ')\n",
    "    subject = input('Input subject: ')\n",
    "    score = int(input('Input marks: '))\n",
    "    Marks.append((rollNumber, subject, score))\n",
    "totalMarks = {}\n",
    "for s in Student:\n",
    "    totalMarks[s] = 0\n",
    "    for m in Marks:\n",
    "        if s in m:\n",
    "            totalMarks[s] += m[2]\n",
    "for t in totalMarks:\n",
    "    print(t, totalMarks[t])"
   ]
  },
  {
   "cell_type": "code",
   "execution_count": 4,
   "metadata": {},
   "outputs": [
    {
     "name": "stdout",
     "output_type": "stream",
     "text": [
      "Input a date: 8-MAR-85\n",
      "Resulting tuple:  (1985, 3, 8)\n"
     ]
    }
   ],
   "source": [
    "# 4. A date of the form 8-MAR-85 includes the name of the month, which must be translated to a number. \n",
    "#Create a dict suitable for decoding month names to numbers. Create a function which uses string operations to split the date\n",
    "#into 3 items using the \"-\" character. Translate the month, correct the year to include all of the digits.\n",
    "#The function will accept a date in the \"dd-MMM-yy\" format and respond with a tuple of ( y , m , d )\n",
    "\n",
    "def translate(date):\n",
    "    month = {'JAN' : 1, 'FEB' : 2, 'MAR' : 3, 'APR' : 4, 'MAY' : 5, 'JUN' : 6, 'JUL' : 7, 'AUG' : 8, 'SEP' : 9,\n",
    "        'OCT' : 10, 'NOV' : 11, 'DEC' : 12}\n",
    "    input_split = date.split('-')\n",
    "    if int(input_split[2]) <= 21:\n",
    "        input_split[2] = '20' + input_split[2]\n",
    "    else:\n",
    "        input_split[2] = '19' + input_split[2]\n",
    "    return ((int(input_split[2]), month[input_split[1].upper()], int(input_split[0])))\n",
    "\n",
    "date = input('Input a date: ')\n",
    "print('Resulting tuple: ', translate(date))"
   ]
  },
  {
   "cell_type": "markdown",
   "metadata": {},
   "source": [
    "5. Dice Odds. There are 36 possible combinations of two dice. A simple pair of loops over range(6)+1 will enumerate all combinations. The sum of the two dice is more interesting than the actual combination. Create a dict of all combinations, using the sum of the two dice as the key. Each value in the dict should be a list of tuples; each tuple has the value of two dice. The general outline is something like the following:\n",
    "d= {}\n",
    "Loop with d1 from 1 to 6\n",
    "    Loop with d2 from 1 to 6\n",
    "        newTuple ← ( d1, d2 ) # create the tuple\n",
    "        oldList ← dictionary entry for sum d1+d2\n",
    "        newList ← oldList + newTuple\n",
    "        replace entry in dictionary with newList\n",
    "Loop over all values in the dictionary\n",
    "print the key and the length of the list"
   ]
  },
  {
   "cell_type": "code",
   "execution_count": 5,
   "metadata": {},
   "outputs": [
    {
     "name": "stdout",
     "output_type": "stream",
     "text": [
      "Keys of dictionary: \n",
      "2 [(1, 1)]\n",
      "3 [(1, 2), (2, 1)]\n",
      "4 [(1, 3), (2, 2), (3, 1)]\n",
      "5 [(1, 4), (2, 3), (3, 2), (4, 1)]\n",
      "6 [(1, 5), (2, 4), (3, 3), (4, 2), (5, 1)]\n",
      "7 [(1, 6), (2, 5), (3, 4), (4, 3), (5, 2), (6, 1)]\n",
      "8 [(2, 6), (3, 5), (4, 4), (5, 3), (6, 2)]\n",
      "9 [(3, 6), (4, 5), (5, 4), (6, 3)]\n",
      "10 [(4, 6), (5, 5), (6, 4)]\n",
      "11 [(5, 6), (6, 5)]\n",
      "12 [(6, 6)]\n",
      "Length of dictionary:  11\n"
     ]
    }
   ],
   "source": [
    "#5. Problem statement above\n",
    "d = {}\n",
    "oldList = []\n",
    "newList = []\n",
    "for d1 in range(1, 7):\n",
    "    for d2 in range(1, 7):\n",
    "        if (d1 + d2) not in d:\n",
    "            d[d1 + d2] = [(d1, d2)]\n",
    "        else:\n",
    "            newTuple = (d1, d2)\n",
    "            oldList = d[d1 + d2]\n",
    "            newList = oldList.append(newTuple)\n",
    "print('Keys of dictionary: ')\n",
    "for key in d:\n",
    "    print(key, d[key])\n",
    "print('Length of dictionary: ', len(d))"
   ]
  },
  {
   "cell_type": "code",
   "execution_count": null,
   "metadata": {},
   "outputs": [],
   "source": []
  }
 ],
 "metadata": {
  "kernelspec": {
   "display_name": "Python 3",
   "language": "python",
   "name": "python3"
  },
  "language_info": {
   "codemirror_mode": {
    "name": "ipython",
    "version": 3
   },
   "file_extension": ".py",
   "mimetype": "text/x-python",
   "name": "python",
   "nbconvert_exporter": "python",
   "pygments_lexer": "ipython3",
   "version": "3.7.6"
  }
 },
 "nbformat": 4,
 "nbformat_minor": 4
}
