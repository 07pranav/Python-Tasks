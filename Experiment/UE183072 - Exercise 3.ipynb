{
 "cells": [
  {
   "cell_type": "markdown",
   "metadata": {},
   "source": [
    "<h1> Exercise 3 "
   ]
  },
  {
   "cell_type": "code",
   "execution_count": 1,
   "metadata": {},
   "outputs": [
    {
     "name": "stdout",
     "output_type": "stream",
     "text": [
      "[10, 11, 12]\n"
     ]
    }
   ],
   "source": [
    "#program to find the list in a list of lists whose sum of elements is the highest. \n",
    "\n",
    "def maxSum(list):\n",
    "    return(max(list, key = sum))\n",
    "\n",
    "# Test Case\n",
    "list = [[1, 2, 3], [4, 5, 6], [10, 11, 12], [7, 8, 9]]\n",
    "result = maxSum(list)\n",
    "print(result)"
   ]
  },
  {
   "cell_type": "code",
   "execution_count": 2,
   "metadata": {},
   "outputs": [
    {
     "name": "stdout",
     "output_type": "stream",
     "text": [
      "The given list has a sublist\n"
     ]
    }
   ],
   "source": [
    "# program to check whether a list contains a sublist.\n",
    "def checkList(list):\n",
    "    count = 0\n",
    "    for x in list:\n",
    "        if(type(x)==type([])):\n",
    "            print('The given list has a sublist')\n",
    "            count += 1\n",
    "            break\n",
    "    if count==0:\n",
    "            print('Sublist not present')\n",
    "        \n",
    "            \n",
    "# Test Case\n",
    "list = [1,[2,3,5],4,6,8]\n",
    "res = checkList(list)"
   ]
  },
  {
   "cell_type": "code",
   "execution_count": null,
   "metadata": {},
   "outputs": [],
   "source": []
  },
  {
   "cell_type": "code",
   "execution_count": null,
   "metadata": {},
   "outputs": [],
   "source": []
  }
 ],
 "metadata": {
  "kernelspec": {
   "display_name": "Python 3",
   "language": "python",
   "name": "python3"
  },
  "language_info": {
   "codemirror_mode": {
    "name": "ipython",
    "version": 3
   },
   "file_extension": ".py",
   "mimetype": "text/x-python",
   "name": "python",
   "nbconvert_exporter": "python",
   "pygments_lexer": "ipython3",
   "version": "3.7.6"
  }
 },
 "nbformat": 4,
 "nbformat_minor": 4
}
