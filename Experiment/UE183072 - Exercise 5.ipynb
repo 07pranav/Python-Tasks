{
 "cells": [
  {
   "cell_type": "code",
   "execution_count": 1,
   "metadata": {},
   "outputs": [
    {
     "name": "stdout",
     "output_type": "stream",
     "text": [
      "[ 4  7 84  1 22]\n",
      "[44 55 77 88  0]\n",
      "For array x True\n",
      "For array y False\n"
     ]
    }
   ],
   "source": [
    "# Create a function to check whether numpy array has Zero values or not.\n",
    "\n",
    "# numpy.all() function returns false if it founds 0 in array.\n",
    "import numpy as np\n",
    "x=np.array([4,7,84,1,22])\n",
    "y=np.array([44,55,77,88,0])\n",
    "print(x)\n",
    "print(y)\n",
    "print('For array x',np.all(x))\n",
    "print('For array y',np.all(y))"
   ]
  },
  {
   "cell_type": "code",
   "execution_count": 2,
   "metadata": {},
   "outputs": [
    {
     "name": "stdout",
     "output_type": "stream",
     "text": [
      "Mean is  77.83333333333333\n",
      "Median is  77.5\n"
     ]
    }
   ],
   "source": [
    "# Consider an array contains marks of students. Find the median and mean of students who got passing marks.\n",
    "import numpy as np\n",
    "x=np.array([75,87,78,69,77,81]) # marks of 6 subjects\n",
    "print('Mean is ',x.mean())\n",
    "print('Median is ',np.median(x))"
   ]
  },
  {
   "cell_type": "code",
   "execution_count": 3,
   "metadata": {},
   "outputs": [
    {
     "name": "stdout",
     "output_type": "stream",
     "text": [
      "365 days\n",
      "Labels:  ['Undefined', 'Second', 'Third']\n"
     ]
    }
   ],
   "source": [
    "# Consider an array containing date of birth of students (Use np.datetime64('2018-02-01'))\n",
    "# . Find the age of all students.\n",
    "# If age is 18 label it First, if it is 19, label it Second, if it is 20, label it Third, if it is 21, label it Fourth\n",
    "\n",
    "import numpy as np\n",
    "from datetime import datetime\n",
    "dates_of_birth = np.array(['2009-04-07','2002-02-07','2000-07-07'],dtype='datetime64')\n",
    "labels=[]\n",
    "\n",
    "today=datetime.now().date()\n",
    "today=np.datetime64(today)\n",
    "\n",
    "print(np.timedelta64(365,'D'))\n",
    "for date in dates_of_birth:\n",
    "    days_diff = today - date\n",
    "    years_diff = days_diff/np.timedelta64(365,'D')\n",
    "    if int(years_diff) ==18:\n",
    "        labels.append(\"First\")\n",
    "    elif int(years_diff) ==19:\n",
    "        labels.append(\"Second\")\n",
    "    elif int(years_diff) ==20:\n",
    "        labels.append(\"Third\")\n",
    "    elif int(years_diff) ==21:\n",
    "        labels.append(\"Fourth\")\n",
    "    else:\n",
    "        labels.append(\"Undefined\")\n",
    "\n",
    "print(\"Labels: \",labels)"
   ]
  },
  {
   "cell_type": "code",
   "execution_count": 4,
   "metadata": {},
   "outputs": [
    {
     "data": {
      "text/plain": [
       "array([[ 44,  58, 175],\n",
       "       [ 49, 144, 200]])"
      ]
     },
     "execution_count": 4,
     "metadata": {},
     "output_type": "execute_result"
    }
   ],
   "source": [
    "# Create a function to sort 2d Array by a column\n",
    "import numpy as np\n",
    "x=np.array([[49,144,175],[44,58,200]])\n",
    "np.sort(x,axis=0)"
   ]
  },
  {
   "cell_type": "code",
   "execution_count": null,
   "metadata": {},
   "outputs": [],
   "source": []
  }
 ],
 "metadata": {
  "kernelspec": {
   "display_name": "Python 3",
   "language": "python",
   "name": "python3"
  },
  "language_info": {
   "codemirror_mode": {
    "name": "ipython",
    "version": 3
   },
   "file_extension": ".py",
   "mimetype": "text/x-python",
   "name": "python",
   "nbconvert_exporter": "python",
   "pygments_lexer": "ipython3",
   "version": "3.7.6"
  }
 },
 "nbformat": 4,
 "nbformat_minor": 4
}
